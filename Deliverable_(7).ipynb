{
  "nbformat": 4,
  "nbformat_minor": 0,
  "metadata": {
    "colab": {
      "provenance": []
    },
    "kernelspec": {
      "name": "python3",
      "display_name": "Python 3"
    },
    "language_info": {
      "name": "python"
    }
  },
  "cells": [
    {
      "cell_type": "code",
      "execution_count": 1,
      "metadata": {
        "id": "M5uNBYuyYhmH"
      },
      "outputs": [],
      "source": [
        "my_list = [1, 3, 5, 7, 9]"
      ]
    },
    {
      "cell_type": "code",
      "source": [
        "# Colon must be utilized after varaible is called\n",
        "for element in my_list:\n",
        "    print(element)\n",
        "print('End')"
      ],
      "metadata": {
        "colab": {
          "base_uri": "https://localhost:8080/"
        },
        "id": "TA7bAcD8ZJkL",
        "outputId": "4cc866a1-9a01-4250-c371-067478e7da03"
      },
      "execution_count": 2,
      "outputs": [
        {
          "output_type": "stream",
          "name": "stdout",
          "text": [
            "1\n",
            "2\n",
            "5\n",
            "7\n",
            "9\n",
            "End\n"
          ]
        }
      ]
    },
    {
      "cell_type": "code",
      "source": [
        "values = list(range(1,10,2))\n",
        "values"
      ],
      "metadata": {
        "colab": {
          "base_uri": "https://localhost:8080/"
        },
        "id": "eKAdQRHpaRsM",
        "outputId": "a7308606-26ae-47ed-f74c-1c316f527e67"
      },
      "execution_count": 11,
      "outputs": [
        {
          "output_type": "execute_result",
          "data": {
            "text/plain": [
              "[1, 3, 5, 7, 9]"
            ]
          },
          "metadata": {},
          "execution_count": 11
        }
      ]
    },
    {
      "cell_type": "code",
      "source": [
        "#squares the values\n",
        "\n",
        "squares = []"
      ],
      "metadata": {
        "id": "MN8FH53Jah1O"
      },
      "execution_count": 16,
      "outputs": []
    },
    {
      "cell_type": "code",
      "source": [
        "#append helps to squares the values of the element\n",
        "for i in values:\n",
        "    squares.append(i**2)\n",
        "print('Original values:', values)\n",
        "print('Squared values:', squares)"
      ],
      "metadata": {
        "colab": {
          "base_uri": "https://localhost:8080/"
        },
        "id": "YnebsgpVanCA",
        "outputId": "962b52d5-3479-4ef0-c2ad-cbb4dfe68c76"
      },
      "execution_count": 17,
      "outputs": [
        {
          "output_type": "stream",
          "name": "stdout",
          "text": [
            "Original values: [1, 3, 5, 7, 9]\n",
            "Squared values: [1, 9, 25, 49, 81]\n"
          ]
        }
      ]
    },
    {
      "cell_type": "code",
      "source": [
        "my_dict = {'Enter a value greater than zero:' }\n",
        "my_dict"
      ],
      "metadata": {
        "colab": {
          "base_uri": "https://localhost:8080/"
        },
        "id": "urdW3t3NeVT_",
        "outputId": "863e8cdc-4836-4a4b-f605-e478fbf7947d"
      },
      "execution_count": 20,
      "outputs": [
        {
          "output_type": "execute_result",
          "data": {
            "text/plain": [
              "{'Enter a value greater than zero:'}"
            ]
          },
          "metadata": {},
          "execution_count": 20
        }
      ]
    },
    {
      "cell_type": "code",
      "source": [
        "user_list = []\n",
        "\n",
        "x = 0\n",
        "y = int(input(\"Please enter a number greater than 0 : \"))\n",
        "\n",
        "for i in range (0,y):\n",
        "  value = int(input())\n",
        "\n",
        "  user_list.append(value)\n",
        "\n",
        "if x == y:\n",
        "  print('ERROR')\n",
        "else:\n",
        "  print(user_list)"
      ],
      "metadata": {
        "colab": {
          "base_uri": "https://localhost:8080/"
        },
        "id": "CVfK86GehWd0",
        "outputId": "eb647c38-825f-4ea8-eba6-857120e7d5c3"
      },
      "execution_count": 50,
      "outputs": [
        {
          "output_type": "stream",
          "name": "stdout",
          "text": [
            "Please enter a number greater than 0 : 4\n",
            "2\n",
            "4\n",
            "6\n",
            "8\n",
            "[2, 4, 6, 8]\n"
          ]
        }
      ]
    },
    {
      "cell_type": "code",
      "source": [
        "x = float(input(\"Please input a number: \"))\n",
        "if x %2 == 0:\n",
        "  print(\"x is even\")\n",
        "else:\n",
        "   print(\"x is odd\")"
      ],
      "metadata": {
        "id": "Q-vv972TxmKv"
      },
      "execution_count": 48,
      "outputs": []
    },
    {
      "cell_type": "code",
      "source": [
        "import pandas as pd"
      ],
      "metadata": {
        "id": "1IbJNl9urFMD"
      },
      "execution_count": 35,
      "outputs": []
    },
    {
      "cell_type": "code",
      "source": [
        "storage = {'Even' : ['2', '4', '6', '8'],\n",
        "        'Odd' : [1,3,5,7],\n",
        "        'Fibonacci' : [0, 1, 1, 2]}\n",
        "df = pd.DataFrame(storage)\n",
        "\n",
        "df.style"
      ],
      "metadata": {
        "colab": {
          "base_uri": "https://localhost:8080/",
          "height": 174
        },
        "id": "pPgbAutTs4b_",
        "outputId": "681d3968-4a92-4b90-d40a-523628dc2ec8"
      },
      "execution_count": 51,
      "outputs": [
        {
          "output_type": "execute_result",
          "data": {
            "text/plain": [
              "<pandas.io.formats.style.Styler at 0x7ffa9b218b50>"
            ],
            "text/html": [
              "<style type=\"text/css\">\n",
              "</style>\n",
              "<table id=\"T_16f13_\" class=\"dataframe\">\n",
              "  <thead>\n",
              "    <tr>\n",
              "      <th class=\"blank level0\" >&nbsp;</th>\n",
              "      <th class=\"col_heading level0 col0\" >Even</th>\n",
              "      <th class=\"col_heading level0 col1\" >Odd</th>\n",
              "      <th class=\"col_heading level0 col2\" >Fibonacci</th>\n",
              "    </tr>\n",
              "  </thead>\n",
              "  <tbody>\n",
              "    <tr>\n",
              "      <th id=\"T_16f13_level0_row0\" class=\"row_heading level0 row0\" >0</th>\n",
              "      <td id=\"T_16f13_row0_col0\" class=\"data row0 col0\" >2</td>\n",
              "      <td id=\"T_16f13_row0_col1\" class=\"data row0 col1\" >1</td>\n",
              "      <td id=\"T_16f13_row0_col2\" class=\"data row0 col2\" >0</td>\n",
              "    </tr>\n",
              "    <tr>\n",
              "      <th id=\"T_16f13_level0_row1\" class=\"row_heading level0 row1\" >1</th>\n",
              "      <td id=\"T_16f13_row1_col0\" class=\"data row1 col0\" >4</td>\n",
              "      <td id=\"T_16f13_row1_col1\" class=\"data row1 col1\" >3</td>\n",
              "      <td id=\"T_16f13_row1_col2\" class=\"data row1 col2\" >1</td>\n",
              "    </tr>\n",
              "    <tr>\n",
              "      <th id=\"T_16f13_level0_row2\" class=\"row_heading level0 row2\" >2</th>\n",
              "      <td id=\"T_16f13_row2_col0\" class=\"data row2 col0\" >6</td>\n",
              "      <td id=\"T_16f13_row2_col1\" class=\"data row2 col1\" >5</td>\n",
              "      <td id=\"T_16f13_row2_col2\" class=\"data row2 col2\" >1</td>\n",
              "    </tr>\n",
              "    <tr>\n",
              "      <th id=\"T_16f13_level0_row3\" class=\"row_heading level0 row3\" >3</th>\n",
              "      <td id=\"T_16f13_row3_col0\" class=\"data row3 col0\" >8</td>\n",
              "      <td id=\"T_16f13_row3_col1\" class=\"data row3 col1\" >7</td>\n",
              "      <td id=\"T_16f13_row3_col2\" class=\"data row3 col2\" >2</td>\n",
              "    </tr>\n",
              "  </tbody>\n",
              "</table>\n"
            ]
          },
          "metadata": {},
          "execution_count": 51
        }
      ]
    }
  ]
}